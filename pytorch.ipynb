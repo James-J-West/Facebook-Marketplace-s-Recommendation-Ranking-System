{
 "cells": [
  {
   "cell_type": "code",
   "execution_count": 1,
   "metadata": {},
   "outputs": [
    {
     "name": "stderr",
     "output_type": "stream",
     "text": [
      "c:\\Users\\james\\miniconda3\\envs\\Facebook\\lib\\site-packages\\tqdm\\auto.py:22: TqdmWarning: IProgress not found. Please update jupyter and ipywidgets. See https://ipywidgets.readthedocs.io/en/stable/user_install.html\n",
      "  from .autonotebook import tqdm as notebook_tqdm\n"
     ]
    }
   ],
   "source": [
    "from torch.utils.data import Dataset, DataLoader\n",
    "import torch\n",
    "import torch.nn.functional as F\n",
    "import pandas as pd\n",
    "import numpy as np\n",
    "import matplotlib.pyplot as plt\n",
    "import os\n",
    "from PIL import Image\n",
    "from image_preprocessing import merge_df"
   ]
  },
  {
   "cell_type": "code",
   "execution_count": 2,
   "metadata": {},
   "outputs": [],
   "source": [
    "from email.generator import DecodedGenerator\n",
    "\n",
    "\n",
    "class ImageDataset(Dataset):\n",
    "    def __init__(self):\n",
    "        super().__init__()\n",
    "        self.data = pd.read_pickle(os.path.realpath(os.path.join(os.path.dirname(\"__file__\"),'Image_data.pkl')))\n",
    "        self.category_map = {\n",
    "            \"Home & Garden\": 1,\n",
    "            \"Baby & Kids Stuff\": 2,\n",
    "            \"DIY Tools & Materials\": 3,\n",
    "            \"Music, Films, Books & Games\": 4,\n",
    "            \"Phones, Mobile Phones & Telecoms\": 5,\n",
    "            \"Clothes, Footwear & Accessories\": 6,\n",
    "            \"Other Goods\": 7,\n",
    "            \"Health & Beauty\" :8,\n",
    "            \"Sports, Leisure & Travel\": 9,\n",
    "            \"Appliances\": 10,\n",
    "            \"Computers & Software\": 11,\n",
    "            \"Office Furniture & Equipment\": 12,\n",
    "            \"Video Games & Consoles\": 13\n",
    "            }\n",
    "\n",
    "    def __getitem__(self, index):\n",
    "        example = self.data.iloc[index]\n",
    "        features = example[-1]\n",
    "        label = example[0]\n",
    "        return (torch.tensor(features), torch.tensor(label))\n",
    "    \n",
    "    def decode(self, encoded_value):\n",
    "        numbers = list(self.category_map.values())\n",
    "        words = list(self.category_map.keys())\n",
    "        position = numbers.index(encoded_value)\n",
    "        decoded = words[position]\n",
    "        return decoded\n",
    "    \n",
    "    def encode(self, decoded_value):\n",
    "        numbers = list(self.category_map.values())\n",
    "        words = list(self.category_map.keys())\n",
    "        position = words.index(decoded_value)\n",
    "        encoded = numbers[position]\n",
    "        return encoded\n",
    "    \n",
    "    def __len__(self):\n",
    "        return len(self.data)"
   ]
  },
  {
   "cell_type": "code",
   "execution_count": null,
   "metadata": {},
   "outputs": [],
   "source": [
    "def train(model, epochs=10):\n",
    "    optimiser = torch.optim.SGD(model.parameters(), lr=0.1)\n",
    "\n",
    "    writer = SummaryWriter()\n",
    "    batch_idx = 0\n",
    "\n",
    "    for epoch in range(epochs):\n",
    "        for batch in train_loader:\n",
    "            features, labels = batch\n",
    "            prediction = model(features)\n",
    "            loss = F.cross_entropy(prediction, labels)\n",
    "            loss.backward()\n",
    "            print('Loss:', loss.item())\n",
    "            optimiser.step()\n",
    "            optimiser.zero_grad()\n",
    "            writer.add_scalar('Loss', loss.item(), batch_idx)\n",
    "            batch_idx += 1"
   ]
  },
  {
   "cell_type": "code",
   "execution_count": 3,
   "metadata": {},
   "outputs": [],
   "source": [
    "dataset = ImageDataset()\n",
    "train_loader = DataLoader(dataset, batch_size=16, shuffle=True)"
   ]
  },
  {
   "cell_type": "code",
   "execution_count": null,
   "metadata": {},
   "outputs": [],
   "source": []
  }
 ],
 "metadata": {
  "kernelspec": {
   "display_name": "Python 3.10.4 ('Facebook')",
   "language": "python",
   "name": "python3"
  },
  "language_info": {
   "codemirror_mode": {
    "name": "ipython",
    "version": 3
   },
   "file_extension": ".py",
   "mimetype": "text/x-python",
   "name": "python",
   "nbconvert_exporter": "python",
   "pygments_lexer": "ipython3",
   "version": "3.10.4"
  },
  "orig_nbformat": 4,
  "vscode": {
   "interpreter": {
    "hash": "bc05f895df727021632d312adbbf12d7a9aae6bc66894e90c6004f2b6c4b4e62"
   }
  }
 },
 "nbformat": 4,
 "nbformat_minor": 2
}
